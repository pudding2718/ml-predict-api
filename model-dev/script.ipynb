{
 "cells": [
  {
   "cell_type": "markdown",
   "id": "02585ad4",
   "metadata": {},
   "source": [
    "## 1. 加载数据并进行预处理\n",
    "### 此单元格从CSV文件 (events.csv) 加载事件数据到pandas DataFrame，并显示前几行以检查数据的结构。"
   ]
  },
  {
   "cell_type": "code",
   "execution_count": 33,
   "id": "c06a85ad",
   "metadata": {},
   "outputs": [
    {
     "data": {
      "text/html": [
       "<div>\n",
       "<style scoped>\n",
       "    .dataframe tbody tr th:only-of-type {\n",
       "        vertical-align: middle;\n",
       "    }\n",
       "\n",
       "    .dataframe tbody tr th {\n",
       "        vertical-align: top;\n",
       "    }\n",
       "\n",
       "    .dataframe thead th {\n",
       "        text-align: right;\n",
       "    }\n",
       "</style>\n",
       "<table border=\"1\" class=\"dataframe\">\n",
       "  <thead>\n",
       "    <tr style=\"text-align: right;\">\n",
       "      <th></th>\n",
       "      <th>timestamp</th>\n",
       "      <th>visitorid</th>\n",
       "      <th>event</th>\n",
       "      <th>itemid</th>\n",
       "      <th>transactionid</th>\n",
       "    </tr>\n",
       "  </thead>\n",
       "  <tbody>\n",
       "    <tr>\n",
       "      <th>0</th>\n",
       "      <td>1433221332117</td>\n",
       "      <td>257597</td>\n",
       "      <td>view</td>\n",
       "      <td>355908</td>\n",
       "      <td>NaN</td>\n",
       "    </tr>\n",
       "    <tr>\n",
       "      <th>1</th>\n",
       "      <td>1433224214164</td>\n",
       "      <td>992329</td>\n",
       "      <td>view</td>\n",
       "      <td>248676</td>\n",
       "      <td>NaN</td>\n",
       "    </tr>\n",
       "    <tr>\n",
       "      <th>2</th>\n",
       "      <td>1433221999827</td>\n",
       "      <td>111016</td>\n",
       "      <td>view</td>\n",
       "      <td>318965</td>\n",
       "      <td>NaN</td>\n",
       "    </tr>\n",
       "    <tr>\n",
       "      <th>3</th>\n",
       "      <td>1433221955914</td>\n",
       "      <td>483717</td>\n",
       "      <td>view</td>\n",
       "      <td>253185</td>\n",
       "      <td>NaN</td>\n",
       "    </tr>\n",
       "    <tr>\n",
       "      <th>4</th>\n",
       "      <td>1433221337106</td>\n",
       "      <td>951259</td>\n",
       "      <td>view</td>\n",
       "      <td>367447</td>\n",
       "      <td>NaN</td>\n",
       "    </tr>\n",
       "  </tbody>\n",
       "</table>\n",
       "</div>"
      ],
      "text/plain": [
       "       timestamp  visitorid event  itemid  transactionid\n",
       "0  1433221332117     257597  view  355908            NaN\n",
       "1  1433224214164     992329  view  248676            NaN\n",
       "2  1433221999827     111016  view  318965            NaN\n",
       "3  1433221955914     483717  view  253185            NaN\n",
       "4  1433221337106     951259  view  367447            NaN"
      ]
     },
     "execution_count": 33,
     "metadata": {},
     "output_type": "execute_result"
    }
   ],
   "source": [
    "import pandas as pd\n",
    "\n",
    "data = pd.read_csv('events.csv')\n",
    "\n",
    "data.head()\n"
   ]
  },
  {
   "cell_type": "markdown",
   "id": "b025d195",
   "metadata": {},
   "source": [
    "## 2. 转换时间戳并编码分类数据"
   ]
  },
  {
   "cell_type": "code",
   "execution_count": 23,
   "id": "394ad19d",
   "metadata": {},
   "outputs": [
    {
     "data": {
      "text/html": [
       "<div>\n",
       "<style scoped>\n",
       "    .dataframe tbody tr th:only-of-type {\n",
       "        vertical-align: middle;\n",
       "    }\n",
       "\n",
       "    .dataframe tbody tr th {\n",
       "        vertical-align: top;\n",
       "    }\n",
       "\n",
       "    .dataframe thead th {\n",
       "        text-align: right;\n",
       "    }\n",
       "</style>\n",
       "<table border=\"1\" class=\"dataframe\">\n",
       "  <thead>\n",
       "    <tr style=\"text-align: right;\">\n",
       "      <th></th>\n",
       "      <th>timestamp</th>\n",
       "      <th>visitorid</th>\n",
       "      <th>event</th>\n",
       "      <th>itemid</th>\n",
       "      <th>transactionid</th>\n",
       "      <th>hour</th>\n",
       "      <th>dayofweek</th>\n",
       "    </tr>\n",
       "  </thead>\n",
       "  <tbody>\n",
       "    <tr>\n",
       "      <th>0</th>\n",
       "      <td>2015-06-02 05:02:12.117</td>\n",
       "      <td>257597</td>\n",
       "      <td>0.0</td>\n",
       "      <td>179333</td>\n",
       "      <td>0.0</td>\n",
       "      <td>5</td>\n",
       "      <td>1</td>\n",
       "    </tr>\n",
       "    <tr>\n",
       "      <th>1</th>\n",
       "      <td>2015-06-02 05:50:14.164</td>\n",
       "      <td>992329</td>\n",
       "      <td>0.0</td>\n",
       "      <td>125263</td>\n",
       "      <td>0.0</td>\n",
       "      <td>5</td>\n",
       "      <td>1</td>\n",
       "    </tr>\n",
       "    <tr>\n",
       "      <th>2</th>\n",
       "      <td>2015-06-02 05:13:19.827</td>\n",
       "      <td>111016</td>\n",
       "      <td>0.0</td>\n",
       "      <td>160653</td>\n",
       "      <td>0.0</td>\n",
       "      <td>5</td>\n",
       "      <td>1</td>\n",
       "    </tr>\n",
       "    <tr>\n",
       "      <th>3</th>\n",
       "      <td>2015-06-02 05:12:35.914</td>\n",
       "      <td>483717</td>\n",
       "      <td>0.0</td>\n",
       "      <td>127563</td>\n",
       "      <td>0.0</td>\n",
       "      <td>5</td>\n",
       "      <td>1</td>\n",
       "    </tr>\n",
       "    <tr>\n",
       "      <th>4</th>\n",
       "      <td>2015-06-02 05:02:17.106</td>\n",
       "      <td>951259</td>\n",
       "      <td>0.0</td>\n",
       "      <td>185159</td>\n",
       "      <td>0.0</td>\n",
       "      <td>5</td>\n",
       "      <td>1</td>\n",
       "    </tr>\n",
       "  </tbody>\n",
       "</table>\n",
       "</div>"
      ],
      "text/plain": [
       "                timestamp  visitorid  event  itemid  transactionid  hour  \\\n",
       "0 2015-06-02 05:02:12.117     257597    0.0  179333            0.0     5   \n",
       "1 2015-06-02 05:50:14.164     992329    0.0  125263            0.0     5   \n",
       "2 2015-06-02 05:13:19.827     111016    0.0  160653            0.0     5   \n",
       "3 2015-06-02 05:12:35.914     483717    0.0  127563            0.0     5   \n",
       "4 2015-06-02 05:02:17.106     951259    0.0  185159            0.0     5   \n",
       "\n",
       "   dayofweek  \n",
       "0          1  \n",
       "1          1  \n",
       "2          1  \n",
       "3          1  \n",
       "4          1  "
      ]
     },
     "execution_count": 23,
     "metadata": {},
     "output_type": "execute_result"
    }
   ],
   "source": [
    "\n",
    "data['timestamp'] = pd.to_datetime(data['timestamp'], unit='ms')\n",
    "\n",
    "from sklearn.preprocessing import LabelEncoder\n",
    "label_encoder = LabelEncoder()\n",
    "data['visitorid'] = label_encoder.fit_transform(data['visitorid'])\n",
    "data['itemid'] = label_encoder.fit_transform(data['itemid'])\n",
    "\n",
    "data['event'] = data['event'].map({'view': 0, 'cart': 1, 'purchase': 2})\n",
    "\n",
    "data['transactionid'] = data['transactionid'].fillna(0)\n",
    "\n",
    "data['hour'] = data['timestamp'].dt.hour\n",
    "data['dayofweek'] = data['timestamp'].dt.dayofweek\n",
    "\n",
    "data.head()\n"
   ]
  },
  {
   "cell_type": "markdown",
   "id": "88583927",
   "metadata": {},
   "source": [
    "## 3. 准备特征并拆分数据集"
   ]
  },
  {
   "cell_type": "code",
   "execution_count": 24,
   "id": "03ade8ee",
   "metadata": {},
   "outputs": [],
   "source": [
    "\n",
    "features = ['visitorid', 'itemid', 'hour', 'dayofweek']\n",
    "X = data[features].values\n",
    "y = data['event'].values\n",
    "\n",
    "from sklearn.model_selection import train_test_split\n",
    "X_train, X_test, y_train, y_test = train_test_split(X, y, test_size=0.2, random_state=42)\n"
   ]
  },
  {
   "cell_type": "markdown",
   "id": "bf7096c4",
   "metadata": {},
   "source": [
    "## 4. 定义网络模型"
   ]
  },
  {
   "cell_type": "code",
   "execution_count": 25,
   "id": "1dccdbf7",
   "metadata": {},
   "outputs": [],
   "source": [
    "import torch\n",
    "import torch.nn as nn\n",
    "\n",
    "class UserBehaviorModel(nn.Module):\n",
    "    def __init__(self, input_size, hidden_size, output_size):\n",
    "        super(UserBehaviorModel, self).__init__()\n",
    "        self.lstm = nn.LSTM(input_size, hidden_size, batch_first=True)\n",
    "        self.fc = nn.Linear(hidden_size, output_size)\n",
    "\n",
    "    def forward(self, x):\n",
    "        out, _ = self.lstm(x)\n",
    "        out = self.fc(out[:, -1, :])  \n",
    "        return out\n",
    "\n",
    "input_size = len(features) \n",
    "hidden_size = 50  \n",
    "output_size = 3 \n",
    "\n",
    "\n",
    "model = UserBehaviorModel(input_size=input_size, hidden_size=hidden_size, output_size=output_size)\n"
   ]
  },
  {
   "cell_type": "markdown",
   "id": "9720a73a",
   "metadata": {},
   "source": [
    "## 5. 检查并处理 event 列的缺失数据"
   ]
  },
  {
   "cell_type": "code",
   "execution_count": 26,
   "id": "50f2df17",
   "metadata": {},
   "outputs": [
    {
     "name": "stdout",
     "output_type": "stream",
     "text": [
      "[ 0. nan]\n",
      "91789\n"
     ]
    }
   ],
   "source": [
    "\n",
    "print(data['event'].unique())\n",
    "\n",
    "print(data['event'].isna().sum())\n"
   ]
  },
  {
   "cell_type": "code",
   "execution_count": 27,
   "id": "cb5bbb5b",
   "metadata": {},
   "outputs": [
    {
     "name": "stdout",
     "output_type": "stream",
     "text": [
      "0\n"
     ]
    }
   ],
   "source": [
    "\n",
    "data['event'] = data['event'].fillna(0).astype(int)\n",
    "\n",
    "print(data['event'].isna().sum())\n",
    "\n",
    "assert all(data['event'].isin([0, 1, 2]))\n"
   ]
  },
  {
   "cell_type": "markdown",
   "id": "868089f5",
   "metadata": {},
   "source": [
    "## 6. 数据归一化并准备张量"
   ]
  },
  {
   "cell_type": "code",
   "execution_count": 28,
   "id": "379ea5c2",
   "metadata": {},
   "outputs": [],
   "source": [
    "\n",
    "X = data[features].values\n",
    "y = data['event'].values\n",
    "X_train, X_test, y_train, y_test = train_test_split(X, y, test_size=0.2, random_state=42)\n",
    "\n",
    "X_train_tensor = torch.Tensor(X_train).unsqueeze(1) \n",
    "y_train_tensor = torch.LongTensor(y_train)\n",
    "\n",
    "criterion = nn.CrossEntropyLoss()\n",
    "optimizer = torch.optim.Adam(model.parameters(), lr=0.001)\n"
   ]
  },
  {
   "cell_type": "markdown",
   "id": "abcd75f5",
   "metadata": {},
   "source": [
    "## 7. 训练模型并跟踪损失值"
   ]
  },
  {
   "cell_type": "code",
   "execution_count": 29,
   "id": "5a7e4118",
   "metadata": {},
   "outputs": [
    {
     "name": "stdout",
     "output_type": "stream",
     "text": [
      "Epoch [10/200], Train Loss: 1.0906, Val Loss: 1.0858\n",
      "Epoch [20/200], Train Loss: 1.0421, Val Loss: 1.0371\n",
      "Epoch [30/200], Train Loss: 0.9898, Val Loss: 0.9843\n",
      "Epoch [40/200], Train Loss: 0.9310, Val Loss: 0.9247\n",
      "Epoch [50/200], Train Loss: 0.8638, Val Loss: 0.8566\n",
      "Epoch [60/200], Train Loss: 0.7876, Val Loss: 0.7796\n",
      "Epoch [70/200], Train Loss: 0.7033, Val Loss: 0.6946\n",
      "Epoch [80/200], Train Loss: 0.6133, Val Loss: 0.6042\n",
      "Epoch [90/200], Train Loss: 0.5216, Val Loss: 0.5127\n",
      "Epoch [100/200], Train Loss: 0.4331, Val Loss: 0.4248\n",
      "Epoch [110/200], Train Loss: 0.3524, Val Loss: 0.3450\n",
      "Epoch [120/200], Train Loss: 0.2826, Val Loss: 0.2764\n",
      "Epoch [130/200], Train Loss: 0.2250, Val Loss: 0.2200\n",
      "Epoch [140/200], Train Loss: 0.1793, Val Loss: 0.1754\n",
      "Epoch [150/200], Train Loss: 0.1438, Val Loss: 0.1408\n",
      "Epoch [160/200], Train Loss: 0.1166, Val Loss: 0.1143\n",
      "Epoch [170/200], Train Loss: 0.0958, Val Loss: 0.0940\n",
      "Epoch [180/200], Train Loss: 0.0797, Val Loss: 0.0784\n",
      "Epoch [190/200], Train Loss: 0.0673, Val Loss: 0.0662\n",
      "Epoch [200/200], Train Loss: 0.0575, Val Loss: 0.0566\n"
     ]
    },
    {
     "data": {
      "image/png": "[encoded data removed]",
      "text/plain": [
       "<Figure size 1000x600 with 1 Axes>"
      ]
     },
     "metadata": {},
     "output_type": "display_data"
    }
   ],
   "source": [
    "import torch\n",
    "import torch.nn as nn\n",
    "import matplotlib.pyplot as plt\n",
    "from sklearn.model_selection import train_test_split\n",
    "from sklearn.preprocessing import StandardScaler\n",
    "\n",
    "\n",
    "X = data[features].values\n",
    "y = data['event'].values\n",
    "\n",
    "# 分割数据：80% 训练集，10% 验证集，10% 测试集\n",
    "X_train, X_temp, y_train, y_temp = train_test_split(X, y, test_size=0.2, random_state=42)\n",
    "X_val, X_test, y_val, y_test = train_test_split(X_temp, y_temp, test_size=0.5, random_state=42)\n",
    "\n",
    "\n",
    "scaler = StandardScaler()\n",
    "X_train = scaler.fit_transform(X_train)\n",
    "X_val = scaler.transform(X_val)\n",
    "X_test = scaler.transform(X_test)\n",
    "\n",
    "\n",
    "X_train_tensor = torch.Tensor(X_train).unsqueeze(1)  \n",
    "y_train_tensor = torch.LongTensor(y_train)\n",
    "\n",
    "X_val_tensor = torch.Tensor(X_val).unsqueeze(1) \n",
    "y_val_tensor = torch.LongTensor(y_val)\n",
    "\n",
    "model = UserBehaviorModel(input_size=len(features), hidden_size=50, output_size=3)\n",
    "criterion = nn.CrossEntropyLoss()\n",
    "optimizer = torch.optim.Adam(model.parameters(), lr=0.001)\n",
    "\n",
    "epochs = 200\n",
    "train_losses = []\n",
    "val_losses = []\n",
    "\n",
    "for epoch in range(epochs):\n",
    "    model.train()\n",
    "    optimizer.zero_grad()\n",
    "\n",
    "    outputs_train = model(X_train_tensor)\n",
    "    loss_train = criterion(outputs_train, y_train_tensor)\n",
    "    loss_train.backward()\n",
    "    optimizer.step()\n",
    "\n",
    "    train_losses.append(loss_train.item())\n",
    "    \n",
    "    model.eval()\n",
    "    with torch.no_grad():\n",
    "        outputs_val = model(X_val_tensor)\n",
    "        loss_val = criterion(outputs_val, y_val_tensor)\n",
    "        val_losses.append(loss_val.item())\n",
    "    \n",
    "    if (epoch + 1) % 10 == 0:\n",
    "        print(f'Epoch [{epoch+1}/{epochs}], Train Loss: {loss_train.item():.4f}, Val Loss: {loss_val.item():.4f}')\n",
    "\n",
    "plt.figure(figsize=(10, 6))\n",
    "plt.plot(range(epochs), train_losses, label=\"Training Loss\")\n",
    "plt.plot(range(epochs), val_losses, label=\"Validation Loss\", linestyle='--')\n",
    "plt.xlabel(\"Epoch\")\n",
    "plt.ylabel(\"Loss\")\n",
    "plt.title(\"Training and Validation Loss\")\n",
    "plt.legend()\n",
    "plt.show()\n"
   ]
  },
  {
   "cell_type": "markdown",
   "id": "f5c873b9",
   "metadata": {},
   "source": [
    "## 8. 在测试数据上评估模型性能"
   ]
  },
  {
   "cell_type": "code",
   "execution_count": 30,
   "id": "69ceb557",
   "metadata": {},
   "outputs": [
    {
     "name": "stdout",
     "output_type": "stream",
     "text": [
      "Accuracy: 1.0000\n",
      "F1 Score: 1.0000\n"
     ]
    }
   ],
   "source": [
    "\n",
    "model.eval()\n",
    "X_test_tensor = torch.Tensor(X_test).unsqueeze(1)\n",
    "y_test_tensor = torch.LongTensor(y_test)\n",
    "\n",
    "y_pred = model(X_test_tensor)\n",
    "_, predicted = torch.max(y_pred, 1)\n",
    "\n",
    "from sklearn.metrics import accuracy_score, f1_score\n",
    "accuracy = accuracy_score(y_test_tensor, predicted)\n",
    "f1 = f1_score(y_test_tensor, predicted, average='weighted')\n",
    "\n",
    "print(f'Accuracy: {accuracy:.4f}')\n",
    "print(f'F1 Score: {f1:.4f}')\n"
   ]
  },
  {
   "cell_type": "markdown",
   "id": "6d374d2f",
   "metadata": {},
   "source": [
    "## 9. 保存模型"
   ]
  },
  {
   "cell_type": "code",
   "execution_count": 31,
   "id": "36b01db5",
   "metadata": {},
   "outputs": [],
   "source": [
    "\n",
    "torch.save(model.state_dict(), 'user_behavior_model.pth')\n"
   ]
  },
  {
   "cell_type": "markdown",
   "id": "7f96f132",
   "metadata": {},
   "source": [
    "## 11. 将模型转换为ONNX格式"
   ]
  },
  {
   "cell_type": "code",
   "execution_count": null,
   "id": "30076cd1",
   "metadata": {},
   "outputs": [
    {
     "name": "stdout",
     "output_type": "stream",
     "text": [
      "Exported graph: graph(%onnx::Transpose_0 : Float(1, 1, 8, strides=[8, 8, 1], requires_grad=0, device=cpu),\n",
      "      %fc.weight : Float(3, 50, strides=[50, 1], requires_grad=1, device=cpu),\n",
      "      %fc.bias : Float(3, strides=[1], requires_grad=1, device=cpu),\n",
      "      %onnx::LSTM_117 : Float(1, 200, 4, strides=[800, 4, 1], requires_grad=0, device=cpu),\n",
      "      %onnx::LSTM_118 : Float(1, 200, 50, strides=[10000, 50, 1], requires_grad=0, device=cpu),\n",
      "      %onnx::LSTM_119 : Float(1, 400, strides=[400, 1], requires_grad=0, device=cpu)):\n",
      "  %/lstm/Constant_output_0 : Float(1, 1, 50, strides=[50, 50, 1], requires_grad=0, device=cpu) = onnx::Constant[value=<Tensor>, onnx_name=\"/lstm/Constant\"](), scope: __main__.UserBehaviorModel::/torch.nn.modules.rnn.LSTM::lstm # /root/miniconda3/lib/python3.10/site-packages/torch/nn/modules/rnn.py:854:0\n",
      "  %/lstm/Transpose_output_0 : Float(1, 1, 8, strides=[8, 8, 1], device=cpu) = onnx::Transpose[perm=[1, 0, 2], onnx_name=\"/lstm/Transpose\"](%onnx::Transpose_0), scope: __main__.UserBehaviorModel::/torch.nn.modules.rnn.LSTM::lstm # /root/miniconda3/lib/python3.10/site-packages/torch/nn/modules/rnn.py:879:0\n",
      "  %onnx::LSTM_9 : Tensor? = prim::Constant(), scope: __main__.UserBehaviorModel::/torch.nn.modules.rnn.LSTM::lstm # /root/miniconda3/lib/python3.10/site-packages/torch/nn/modules/rnn.py:879:0\n",
      "  %/lstm/Shape_output_0 : Long(3, strides=[1], device=cpu) = onnx::Shape[onnx_name=\"/lstm/Shape\"](%/lstm/Transpose_output_0), scope: __main__.UserBehaviorModel::/torch.nn.modules.rnn.LSTM::lstm # /root/miniconda3/lib/python3.10/site-packages/torch/nn/modules/rnn.py:879:0\n",
      "  %/lstm/Constant_1_output_0 : Long(device=cpu) = onnx::Constant[value={1}, onnx_name=\"/lstm/Constant_1\"](), scope: __main__.UserBehaviorModel::/torch.nn.modules.rnn.LSTM::lstm # /root/miniconda3/lib/python3.10/site-packages/torch/nn/modules/rnn.py:879:0\n",
      "  %/lstm/Gather_output_0 : Long(device=cpu) = onnx::Gather[onnx_name=\"/lstm/Gather\"](%/lstm/Shape_output_0, %/lstm/Constant_1_output_0), scope: __main__.UserBehaviorModel::/torch.nn.modules.rnn.LSTM::lstm # /root/miniconda3/lib/python3.10/site-packages/torch/nn/modules/rnn.py:879:0\n",
      "  %onnx::Unsqueeze_72 : Long(1, strides=[1], device=cpu) = onnx::Constant[value={0}]()\n",
      "  %onnx::Concat_73 : Long(1, strides=[1], device=cpu) = onnx::Unsqueeze(%/lstm/Gather_output_0, %onnx::Unsqueeze_72)\n",
      "  %/lstm/Constant_2_output_0 : Long(1, strides=[1], device=cpu) = onnx::Constant[value={50}, onnx_name=\"/lstm/Constant_2\"](), scope: __main__.UserBehaviorModel::/torch.nn.modules.rnn.LSTM::lstm # /root/miniconda3/lib/python3.10/site-packages/torch/nn/modules/rnn.py:879:0\n",
      "  %onnx::Concat_120 : Long(1, strides=[1], requires_grad=0, device=cpu) = onnx::Constant[value={1}]()\n",
      "  %/lstm/Concat_output_0 : Long(3, strides=[1], device=cpu) = onnx::Concat[axis=0, onnx_name=\"/lstm/Concat\"](%onnx::Concat_120, %onnx::Concat_73, %/lstm/Constant_2_output_0), scope: __main__.UserBehaviorModel::/torch.nn.modules.rnn.LSTM::lstm # /root/miniconda3/lib/python3.10/site-packages/torch/nn/modules/rnn.py:879:0\n",
      "  %/lstm/Expand_output_0 : Float(1, 1, 50, strides=[50, 50, 1], device=cpu) = onnx::Expand[onnx_name=\"/lstm/Expand\"](%/lstm/Constant_output_0, %/lstm/Concat_output_0), scope: __main__.UserBehaviorModel::/torch.nn.modules.rnn.LSTM::lstm # /root/miniconda3/lib/python3.10/site-packages/torch/nn/modules/rnn.py:879:0\n",
      "  %/lstm/Shape_1_output_0 : Long(3, strides=[1], device=cpu) = onnx::Shape[onnx_name=\"/lstm/Shape_1\"](%/lstm/Transpose_output_0), scope: __main__.UserBehaviorModel::/torch.nn.modules.rnn.LSTM::lstm # /root/miniconda3/lib/python3.10/site-packages/torch/nn/modules/rnn.py:879:0\n",
      "  %/lstm/Constant_3_output_0 : Long(device=cpu) = onnx::Constant[value={1}, onnx_name=\"/lstm/Constant_3\"](), scope: __main__.UserBehaviorModel::/torch.nn.modules.rnn.LSTM::lstm # /root/miniconda3/lib/python3.10/site-packages/torch/nn/modules/rnn.py:879:0\n",
      "  %/lstm/Gather_1_output_0 : Long(device=cpu) = onnx::Gather[onnx_name=\"/lstm/Gather_1\"](%/lstm/Shape_1_output_0, %/lstm/Constant_3_output_0), scope: __main__.UserBehaviorModel::/torch.nn.modules.rnn.LSTM::lstm # /root/miniconda3/lib/python3.10/site-packages/torch/nn/modules/rnn.py:879:0\n",
      "  %onnx::Unsqueeze_83 : Long(1, strides=[1], device=cpu) = onnx::Constant[value={0}]()\n",
      "  %onnx::Concat_84 : Long(1, strides=[1], device=cpu) = onnx::Unsqueeze(%/lstm/Gather_1_output_0, %onnx::Unsqueeze_83)\n",
      "  %/lstm/Constant_4_output_0 : Long(1, strides=[1], device=cpu) = onnx::Constant[value={50}, onnx_name=\"/lstm/Constant_4\"](), scope: __main__.UserBehaviorModel::/torch.nn.modules.rnn.LSTM::lstm # /root/miniconda3/lib/python3.10/site-packages/torch/nn/modules/rnn.py:879:0\n",
      "  %onnx::Concat_121 : Long(1, strides=[1], requires_grad=0, device=cpu) = onnx::Constant[value={1}]()\n",
      "  %/lstm/Concat_1_output_0 : Long(3, strides=[1], device=cpu) = onnx::Concat[axis=0, onnx_name=\"/lstm/Concat_1\"](%onnx::Concat_121, %onnx::Concat_84, %/lstm/Constant_4_output_0), scope: __main__.UserBehaviorModel::/torch.nn.modules.rnn.LSTM::lstm # /root/miniconda3/lib/python3.10/site-packages/torch/nn/modules/rnn.py:879:0\n",
      "  %/lstm/Expand_1_output_0 : Float(1, 1, 50, strides=[50, 50, 1], device=cpu) = onnx::Expand[onnx_name=\"/lstm/Expand_1\"](%/lstm/Constant_output_0, %/lstm/Concat_1_output_0), scope: __main__.UserBehaviorModel::/torch.nn.modules.rnn.LSTM::lstm # /root/miniconda3/lib/python3.10/site-packages/torch/nn/modules/rnn.py:879:0\n",
      "  %/lstm/LSTM_output_0 : Float(1, 1, 1, 50, strides=[50, 50, 50, 1], device=cpu), %/lstm/LSTM_output_1 : Float(1, 1, 50, strides=[50, 50, 1], requires_grad=1, device=cpu), %/lstm/LSTM_output_2 : Float(1, 1, 50, strides=[50, 50, 1], requires_grad=1, device=cpu) = onnx::LSTM[hidden_size=50, onnx_name=\"/lstm/LSTM\"](%/lstm/Transpose_output_0, %onnx::LSTM_117, %onnx::LSTM_118, %onnx::LSTM_119, %onnx::LSTM_9, %/lstm/Expand_output_0, %/lstm/Expand_1_output_0), scope: __main__.UserBehaviorModel::/torch.nn.modules.rnn.LSTM::lstm # /root/miniconda3/lib/python3.10/site-packages/torch/nn/modules/rnn.py:879:0\n",
      "  %/lstm/Constant_5_output_0 : Long(1, strides=[1], device=cpu) = onnx::Constant[value={1}, onnx_name=\"/lstm/Constant_5\"](), scope: __main__.UserBehaviorModel::/torch.nn.modules.rnn.LSTM::lstm # /root/miniconda3/lib/python3.10/site-packages/torch/nn/modules/rnn.py:879:0\n",
      "  %/lstm/Squeeze_output_0 : Float(1, 1, 50, strides=[50, 50, 1], device=cpu) = onnx::Squeeze[onnx_name=\"/lstm/Squeeze\"](%/lstm/LSTM_output_0, %/lstm/Constant_5_output_0), scope: __main__.UserBehaviorModel::/torch.nn.modules.rnn.LSTM::lstm # /root/miniconda3/lib/python3.10/site-packages/torch/nn/modules/rnn.py:879:0\n",
      "  %/lstm/Transpose_1_output_0 : Float(1, 1, 50, strides=[50, 50, 1], requires_grad=1, device=cpu) = onnx::Transpose[perm=[1, 0, 2], onnx_name=\"/lstm/Transpose_1\"](%/lstm/Squeeze_output_0), scope: __main__.UserBehaviorModel::/torch.nn.modules.rnn.LSTM::lstm # /root/miniconda3/lib/python3.10/site-packages/torch/nn/modules/rnn.py:879:0\n",
      "  %/Constant_output_0 : Long(device=cpu) = onnx::Constant[value={-1}, onnx_name=\"/Constant\"](), scope: __main__.UserBehaviorModel::\n",
      "  %/Gather_output_0 : Float(1, 50, strides=[50, 1], requires_grad=1, device=cpu) = onnx::Gather[axis=1, onnx_name=\"/Gather\"](%/lstm/Transpose_1_output_0, %/Constant_output_0), scope: __main__.UserBehaviorModel:: # /tmp/ipykernel_1547/2194049458.py:13:0\n",
      "  %99 : Float(1, 3, strides=[3, 1], requires_grad=1, device=cpu) = onnx::Gemm[alpha=1., beta=1., transB=1, onnx_name=\"/fc/Gemm\"](%/Gather_output_0, %fc.weight, %fc.bias), scope: __main__.UserBehaviorModel::/torch.nn.modules.linear.Linear::fc # /root/miniconda3/lib/python3.10/site-packages/torch/nn/modules/linear.py:114:0\n",
      "  return (%99)\n",
      "\n"
     ]
    },
    {
     "name": "stderr",
     "output_type": "stream",
     "text": [
      "/root/miniconda3/lib/python3.10/site-packages/torch/onnx/symbolic_opset9.py:4662: UserWarning: Exporting a model to ONNX with a batch_size other than 1, with a variable length with LSTM can cause an error when running the ONNX model with a different batch size. Make sure to save the model with a batch size of 1, or define the initial states (h0/c0) as inputs of the model. \n",
      "  warnings.warn(\n"
     ]
    }
   ],
   "source": [
    "import torch\n",
    "import torch.onnx\n",
    "\n",
    "class UserBehaviorModel(torch.nn.Module):\n",
    "    def __init__(self, input_size, hidden_size, output_size):\n",
    "        super(UserBehaviorModel, self).__init__()\n",
    "        self.lstm = torch.nn.LSTM(input_size, hidden_size, batch_first=True)\n",
    "        self.fc = torch.nn.Linear(hidden_size, output_size)\n",
    "\n",
    "    def forward(self, x):\n",
    "        out, _ = self.lstm(x)\n",
    "        out = self.fc(out[:, -1, :])  # 只取最后一个时间步的输出\n",
    "        return out\n",
    "\n",
    "model = UserBehaviorModel(input_size=len(features), hidden_size=50, output_size=3)  # 根据你的模型参数调整\n",
    "\n",
    "model.load_state_dict(torch.load('user_behavior_model.pth'))\n",
    "\n",
    "model.eval()\n",
    "\n",
    "dummy_input = torch.randn(1, 1, 8)  \n",
    "\n",
    "onnx_file_path = \"model.onnx\"\n",
    "torch.onnx.export(model, dummy_input, onnx_file_path, verbose=True)\n"
   ]
  }
 ],
 "metadata": {
  "kernelspec": {
   "display_name": "base",
   "language": "python",
   "name": "python3"
  },
  "language_info": {
   "codemirror_mode": {
    "name": "ipython",
    "version": 3
   },
   "file_extension": ".py",
   "mimetype": "text/x-python",
   "name": "python",
   "nbconvert_exporter": "python",
   "pygments_lexer": "ipython3",
   "version": "3.10.8"
  }
 },
 "nbformat": 4,
 "nbformat_minor": 5
}
